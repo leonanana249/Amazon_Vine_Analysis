{
  "nbformat": 4,
  "nbformat_minor": 0,
  "metadata": {
    "colab": {
      "provenance": []
    },
    "kernelspec": {
      "name": "python3",
      "display_name": "Python 3"
    },
    "nteract": {
      "version": "0.12.3"
    },
    "language_info": {
      "name": "python"
    }
  },
  "cells": [
    {
      "cell_type": "code",
      "metadata": {
        "id": "V58rxea0HqSa",
        "colab": {
          "base_uri": "https://localhost:8080/"
        },
        "outputId": "e8f986d1-e861-4f3e-ab41-1e236db95426"
      },
      "source": [
        "import os\n",
        "# Find the latest version of spark 3.0 from http://www.apache.org/dist/spark/ and enter as the spark version\n",
        "# For example:\n",
        "# spark_version = 'spark-3.0.3'\n",
        "spark_version = 'spark-3.2.2'\n",
        "os.environ['SPARK_VERSION']=spark_version\n",
        "\n",
        "# Install Spark and Java\n",
        "!apt-get update\n",
        "!apt-get install openjdk-11-jdk-headless -qq > /dev/null\n",
        "!wget -q http://www.apache.org/dist/spark/$SPARK_VERSION/$SPARK_VERSION-bin-hadoop2.7.tgz\n",
        "!tar xf $SPARK_VERSION-bin-hadoop2.7.tgz\n",
        "!pip install -q findspark\n",
        "\n",
        "# Set Environment Variables\n",
        "import os\n",
        "os.environ[\"JAVA_HOME\"] = \"/usr/lib/jvm/java-11-openjdk-amd64\"\n",
        "os.environ[\"SPARK_HOME\"] = f\"/content/{spark_version}-bin-hadoop2.7\"\n",
        "\n",
        "# Start a SparkSession\n",
        "import findspark\n",
        "findspark.init()"
      ],
      "execution_count": 1,
      "outputs": [
        {
          "output_type": "stream",
          "name": "stdout",
          "text": [
            "\r0% [Working]\r            \rGet:1 http://security.ubuntu.com/ubuntu bionic-security InRelease [88.7 kB]\n",
            "\r0% [Connecting to archive.ubuntu.com] [1 InRelease 0 B/88.7 kB 0%] [Connected t\r                                                                               \rGet:2 https://cloud.r-project.org/bin/linux/ubuntu bionic-cran40/ InRelease [3,626 B]\n",
            "\r0% [Connecting to archive.ubuntu.com (185.125.190.39)] [1 InRelease 75.0 kB/88.\r0% [Connecting to archive.ubuntu.com (185.125.190.39)] [1 InRelease 88.7 kB/88.\r0% [Connecting to archive.ubuntu.com (185.125.190.39)] [Waiting for headers] [W\r0% [2 InRelease gpgv 3,626 B] [Connecting to archive.ubuntu.com (185.125.190.39\r                                                                               \rHit:3 http://ppa.launchpad.net/c2d4u.team/c2d4u4.0+/ubuntu bionic InRelease\n",
            "\r0% [2 InRelease gpgv 3,626 B] [Waiting for headers] [Waiting for headers] [Conn\r                                                                               \rIgn:4 https://developer.download.nvidia.com/compute/machine-learning/repos/ubuntu1804/x86_64  InRelease\n",
            "Get:5 https://developer.download.nvidia.com/compute/cuda/repos/ubuntu1804/x86_64  InRelease [1,581 B]\n",
            "Hit:6 https://developer.download.nvidia.com/compute/machine-learning/repos/ubuntu1804/x86_64  Release\n",
            "Hit:7 http://archive.ubuntu.com/ubuntu bionic InRelease\n",
            "Get:8 http://archive.ubuntu.com/ubuntu bionic-updates InRelease [88.7 kB]\n",
            "Hit:9 http://ppa.launchpad.net/cran/libgit2/ubuntu bionic InRelease\n",
            "Hit:10 http://ppa.launchpad.net/deadsnakes/ppa/ubuntu bionic InRelease\n",
            "Get:11 http://security.ubuntu.com/ubuntu bionic-security/main amd64 Packages [3,035 kB]\n",
            "Get:12 http://archive.ubuntu.com/ubuntu bionic-backports InRelease [83.3 kB]\n",
            "Hit:13 http://ppa.launchpad.net/graphics-drivers/ppa/ubuntu bionic InRelease\n",
            "Get:14 http://security.ubuntu.com/ubuntu bionic-security/universe amd64 Packages [1,554 kB]\n",
            "Get:15 https://developer.download.nvidia.com/compute/cuda/repos/ubuntu1804/x86_64  Packages [985 kB]\n",
            "Get:17 http://archive.ubuntu.com/ubuntu bionic-updates/main amd64 Packages [3,467 kB]\n",
            "Get:18 http://archive.ubuntu.com/ubuntu bionic-updates/universe amd64 Packages [2,332 kB]\n",
            "Fetched 11.6 MB in 4s (3,225 kB/s)\n",
            "Reading package lists... Done\n"
          ]
        }
      ]
    },
    {
      "cell_type": "code",
      "source": [
        "!pip install pyspark"
      ],
      "metadata": {
        "colab": {
          "base_uri": "https://localhost:8080/"
        },
        "id": "BQn30Ylstg7N",
        "outputId": "21f10f4b-6623-41d8-bce5-e1bd49614335"
      },
      "execution_count": 2,
      "outputs": [
        {
          "output_type": "stream",
          "name": "stdout",
          "text": [
            "Looking in indexes: https://pypi.org/simple, https://us-python.pkg.dev/colab-wheels/public/simple/\n",
            "Collecting pyspark\n",
            "  Downloading pyspark-3.3.0.tar.gz (281.3 MB)\n",
            "\u001b[K     |████████████████████████████████| 281.3 MB 33 kB/s \n",
            "\u001b[?25hCollecting py4j==0.10.9.5\n",
            "  Downloading py4j-0.10.9.5-py2.py3-none-any.whl (199 kB)\n",
            "\u001b[K     |████████████████████████████████| 199 kB 42.1 MB/s \n",
            "\u001b[?25hBuilding wheels for collected packages: pyspark\n",
            "  Building wheel for pyspark (setup.py) ... \u001b[?25l\u001b[?25hdone\n",
            "  Created wheel for pyspark: filename=pyspark-3.3.0-py2.py3-none-any.whl size=281764026 sha256=b51bd09a626d6dbd09d094868d2fe6db8826b39a69ac4e77b983d941026bce9b\n",
            "  Stored in directory: /root/.cache/pip/wheels/7a/8e/1b/f73a52650d2e5f337708d9f6a1750d451a7349a867f928b885\n",
            "Successfully built pyspark\n",
            "Installing collected packages: py4j, pyspark\n",
            "Successfully installed py4j-0.10.9.5 pyspark-3.3.0\n"
          ]
        }
      ]
    },
    {
      "cell_type": "code",
      "metadata": {
        "id": "_xKwTpATHqSe",
        "colab": {
          "base_uri": "https://localhost:8080/"
        },
        "outputId": "40bb3567-9a0c-448c-b9bd-e6552d7cde5c"
      },
      "source": [
        "# Download the Postgres driver that will allow Spark to interact with Postgres.\n",
        "!wget https://jdbc.postgresql.org/download/postgresql-42.2.16.jar"
      ],
      "execution_count": 3,
      "outputs": [
        {
          "output_type": "stream",
          "name": "stdout",
          "text": [
            "--2022-10-22 20:09:21--  https://jdbc.postgresql.org/download/postgresql-42.2.16.jar\n",
            "Resolving jdbc.postgresql.org (jdbc.postgresql.org)... 72.32.157.228, 2001:4800:3e1:1::228\n",
            "Connecting to jdbc.postgresql.org (jdbc.postgresql.org)|72.32.157.228|:443... connected.\n",
            "HTTP request sent, awaiting response... 200 OK\n",
            "Length: 1002883 (979K) [application/java-archive]\n",
            "Saving to: ‘postgresql-42.2.16.jar’\n",
            "\n",
            "postgresql-42.2.16. 100%[===================>] 979.38K  5.32MB/s    in 0.2s    \n",
            "\n",
            "2022-10-22 20:09:22 (5.32 MB/s) - ‘postgresql-42.2.16.jar’ saved [1002883/1002883]\n",
            "\n"
          ]
        }
      ]
    },
    {
      "cell_type": "code",
      "metadata": {
        "id": "MMqDAjVS0KN9"
      },
      "source": [
        "from pyspark.sql import SparkSession\n",
        "spark = SparkSession.builder.appName(\"M16-Amazon-Challenge\").config(\"spark.driver.extraClassPath\",\"/content/postgresql-42.2.16.jar\").getOrCreate()"
      ],
      "execution_count": 4,
      "outputs": []
    },
    {
      "cell_type": "markdown",
      "metadata": {
        "id": "cyBsySGuY-9V"
      },
      "source": [
        "### Load Amazon Data into Spark DataFrame"
      ]
    },
    {
      "cell_type": "code",
      "metadata": {
        "id": "CtCmBhQJY-9Z",
        "colab": {
          "base_uri": "https://localhost:8080/"
        },
        "outputId": "47686bfb-c972-4275-bf87-475a41e06685"
      },
      "source": [
        "from pyspark import SparkFiles\n",
        "url = \"https://s3.amazonaws.com/amazon-reviews-pds/tsv/amazon_reviews_us_Gift_Card_v1_00.tsv.gz\"\n",
        "spark.sparkContext.addFile(url)\n",
        "df = spark.read.option(\"encoding\", \"UTF-8\").csv(SparkFiles.get(\"\"), sep=\"\\t\", header=True, inferSchema=True)\n",
        "df.show()"
      ],
      "execution_count": 5,
      "outputs": [
        {
          "output_type": "stream",
          "name": "stdout",
          "text": [
            "+-----------+-----------+--------------+----------+--------------+--------------------+----------------+-----------+-------------+-----------+----+-----------------+--------------------+--------------------+-----------+\n",
            "|marketplace|customer_id|     review_id|product_id|product_parent|       product_title|product_category|star_rating|helpful_votes|total_votes|vine|verified_purchase|     review_headline|         review_body|review_date|\n",
            "+-----------+-----------+--------------+----------+--------------+--------------------+----------------+-----------+-------------+-----------+----+-----------------+--------------------+--------------------+-----------+\n",
            "|         US|   24371595|R27ZP1F1CD0C3Y|B004LLIL5A|     346014806|Amazon eGift Card...|       Gift Card|          5|            0|          0|   N|                Y|          Five Stars|Great birthday gi...| 2015-08-31|\n",
            "|         US|   42489718| RJ7RSBCHUDNNE|B004LLIKVU|     473048287|Amazon.com eGift ...|       Gift Card|          5|            0|          0|   N|                Y|Gift card for the...|It's an Amazon gi...| 2015-08-31|\n",
            "|         US|     861463|R1HVYBSKLQJI5S|B00IX1I3G6|     926539283|Amazon.com Gift C...|       Gift Card|          5|            0|          0|   N|                Y|          Five Stars|                Good| 2015-08-31|\n",
            "|         US|   25283295|R2HAXF0IIYQBIR|B00IX1I3G6|     926539283|Amazon.com Gift C...|       Gift Card|          1|            0|          0|   N|                Y|            One Star|                Fair| 2015-08-31|\n",
            "|         US|     397970| RNYLPX611NB7Q|B005ESMGV4|     379368939|Amazon.com Gift C...|       Gift Card|          5|            0|          0|   N|                Y|          Five Stars|I can't believe h...| 2015-08-31|\n",
            "|         US|   18513645|R3ALA9XXMBEDZR|B004KNWWU4|     326384774|Amazon Gift Card ...|       Gift Card|          5|            0|          0|   N|                Y|Perfect for most ...|Perfect!  Nice & ...| 2015-08-31|\n",
            "|         US|   22484620|R3R8PHAVJFTPDF|B004LLIKVU|     473048287|Amazon.com eGift ...|       Gift Card|          5|            0|          0|   N|                Y|          Five Stars|            excelent| 2015-08-31|\n",
            "|         US|   14765851|R18WWEK8OIXE30|BT00CTP2EE|     775486538|Amazon.com Gift C...|       Gift Card|          5|            0|          0|   N|                Y|          Five Stars|Great and Safe Gi...| 2015-08-31|\n",
            "|         US|   18751931|R1EGUNQON2J277|B004LLIKVU|     473048287|Amazon.com eGift ...|       Gift Card|          1|            0|          0|   N|                Y|            One Star|       What?????????| 2015-08-31|\n",
            "|         US|   15100528|R21Z4M4L98CPU2|B004W8D102|     595099956|Amazon Gift Card ...|       Gift Card|          5|            0|          0|   N|                Y|          Five Stars|This was just too...| 2015-08-31|\n",
            "|         US|    3559726| R6JH7A117FHFA|B004LLIKVU|     473048287|Amazon.com eGift ...|       Gift Card|          5|            0|          0|   N|                Y|          Five Stars|                Bien| 2015-08-31|\n",
            "|         US|   23413911|R1XZHS8M1GCGI7|B004KNWWU4|     326384774|Amazon Gift Card ...|       Gift Card|          5|            1|          1|   N|                Y|         Always good|Easy to print fro...| 2015-08-31|\n",
            "|         US|    2026222|R1DAI0N03SKRJN|B004LLIKVU|     473048287|Amazon.com eGift ...|       Gift Card|          5|            1|          1|   N|                Y|          Five Stars|Amazing with 10 d...| 2015-08-31|\n",
            "|         US|   32956435|R2F6SKZOEYQRU3|B004LLIKVU|     473048287|Amazon.com eGift ...|       Gift Card|          5|            0|          0|   N|                N|          Five Stars|Remember Matthew ...| 2015-08-31|\n",
            "|         US|   20241560| RIBOP6OEAZA47|B00H5BNLUS|     637715957|Amazon eGift Card...|       Gift Card|          5|            1|          1|   N|                Y|          Five Stars|                good| 2015-08-31|\n",
            "|         US|   10670435|R15H8E7WD6XD29|B004KNWX6C|     763371347|Amazon Gift Card ...|       Gift Card|          5|            0|          0|   N|                Y|          Five Stars|Awesome way to se...| 2015-08-31|\n",
            "|         US|   48872127| RVN4P3RU4F8IE|BT00CTOYC0|     506740729|Amazon.com $15 Gi...|       Gift Card|          5|            0|          0|   N|                Y|Quick Solution fo...|I love that I hav...| 2015-08-31|\n",
            "|         US|     460630| RCS8F9JCAAXC7|B004LLIKVU|     473048287|Amazon.com eGift ...|       Gift Card|          4|            0|          0|   N|                Y|          Four Stars|Good gift. Easy t...| 2015-08-31|\n",
            "|         US|   41238378| R6811C4E7UYL2|B00H5BMH44|      81025991|Amazon eGift Card...|       Gift Card|          5|            0|          0|   N|                Y|  Satisfied customer|Satisfied as usua...| 2015-08-31|\n",
            "|         US|   14222739|R196T0NZ73TYIM|B005ESMMKE|     459536087|Amazon.com Gift C...|       Gift Card|          5|            1|          1|   N|                Y|          Five Stars|                nice| 2015-08-31|\n",
            "+-----------+-----------+--------------+----------+--------------+--------------------+----------------+-----------+-------------+-----------+----+-----------------+--------------------+--------------------+-----------+\n",
            "only showing top 20 rows\n",
            "\n"
          ]
        }
      ]
    },
    {
      "cell_type": "markdown",
      "metadata": {
        "id": "2yUSe55VY-9t"
      },
      "source": [
        "### Deliverable 2"
      ]
    },
    {
      "cell_type": "code",
      "metadata": {
        "id": "C8REmY1aY-9u",
        "colab": {
          "base_uri": "https://localhost:8080/"
        },
        "outputId": "01cdb750-d770-4884-efea-9612cec8745a"
      },
      "source": [
        "from pyspark.sql.functions import to_date\n",
        "# reveiw data types\n",
        "df"
      ],
      "execution_count": 6,
      "outputs": [
        {
          "output_type": "execute_result",
          "data": {
            "text/plain": [
              "DataFrame[marketplace: string, customer_id: int, review_id: string, product_id: string, product_parent: int, product_title: string, product_category: string, star_rating: int, helpful_votes: int, total_votes: int, vine: string, verified_purchase: string, review_headline: string, review_body: string, review_date: string]"
            ]
          },
          "metadata": {},
          "execution_count": 6
        }
      ]
    },
    {
      "cell_type": "code",
      "metadata": {
        "id": "B0TESUDRY-90",
        "colab": {
          "base_uri": "https://localhost:8080/"
        },
        "outputId": "84180974-64bf-41f2-8770-49feda605fd9"
      },
      "source": [
        "# Filter df on total vote greater than or equal to 20 \n",
        "\n",
        "total_vote_df = df.filter(\"total_votes>=20\")\n",
        "total_vote_df.show()\n",
        "\n"
      ],
      "execution_count": 7,
      "outputs": [
        {
          "output_type": "stream",
          "name": "stdout",
          "text": [
            "+-----------+-----------+--------------+----------+--------------+--------------------+----------------+-----------+-------------+-----------+----+-----------------+--------------------+--------------------+-----------+\n",
            "|marketplace|customer_id|     review_id|product_id|product_parent|       product_title|product_category|star_rating|helpful_votes|total_votes|vine|verified_purchase|     review_headline|         review_body|review_date|\n",
            "+-----------+-----------+--------------+----------+--------------+--------------------+----------------+-----------+-------------+-----------+----+-----------------+--------------------+--------------------+-----------+\n",
            "|         US|   18888920|R36PQ9D8L2AAOH|B00JDQJVF2|     255898874|Amazon.com Gift C...|       Gift Card|          5|           30|         32|   N|                Y|          Five Stars|Love this adorabl...| 2015-08-26|\n",
            "|         US|    4765280|R23GHBE86II0SK|B007V6ETDK|     924812503|Amazon eGift Card...|       Gift Card|          5|           18|         21|   N|                Y|Los Angeles Alway...|      Great idea Ama| 2015-08-18|\n",
            "|         US|   39230280|R18KVPY0TO33BM|B00JDQJVF2|     255898874|Amazon.com Gift C...|       Gift Card|          5|          241|        248|   N|                Y|Very sweet and co...|I am very impress...| 2015-08-16|\n",
            "|         US|     167348|R2ZB78BDM8BRCF|B004LLIKVU|     473048287|Amazon.com eGift ...|       Gift Card|          1|           99|        113|   N|                Y|             Scammed|You should have a...| 2015-08-13|\n",
            "|         US|   16553928|R2JMJOWGM7V7NX|BT00CTP6MM|     775486538|Amazon.com Gift C...|       Gift Card|          4|           20|         20|   N|                N|          Four Stars|Thank you note wa...| 2015-07-24|\n",
            "|         US|   39357721|R10ORTN0I3G5B9|B00IX1I3G6|     926539283|Amazon.com Gift C...|       Gift Card|          1|           19|         26|   N|                Y|It is getting clo...|Gift cards are no...| 2015-07-18|\n",
            "|         US|   43437405|R1D1VPJBTP1WG8|B00IX1I3G6|     926539283|Amazon.com Gift C...|       Gift Card|          1|           38|         51|   N|                Y|I am still waitin...|I recently tried ...| 2015-07-13|\n",
            "|         US|   50118836|R3Q3ULUTULAQYH|B00IX1I3G6|     926539283|Amazon.com Gift C...|       Gift Card|          1|           22|         29|   N|                Y|      Not impressed.|Am not impressed....| 2015-07-11|\n",
            "|         US|   20020797|R1SHEELXA1IXQP|B00A48G0D4|     848703272|Amazon eGift Card...|       Gift Card|          5|           45|         57|   N|                Y|These gift cards ...|These are handy! ...| 2015-07-10|\n",
            "|         US|     212175|R1IQJ99JOPJOE4|B004LLIKVU|     473048287|Amazon.com eGift ...|       Gift Card|          5|           73|         94|   N|                N|                😅😂|Ok, I haven't bou...| 2015-07-08|\n",
            "|         US|     338223|R32PHGNOUNJVY2|B004LLIKVU|     473048287|Amazon.com eGift ...|       Gift Card|          1|          111|        150|   N|                Y|            One Star|the Quality is ve...| 2015-07-06|\n",
            "|         US|     256644|R32HQ18L7FOP3N|B005FGQHKQ|     379368939|Amazon.com Gift C...|       Gift Card|          1|           18|         23|   N|                N|              Read!!|Most of the 5-sta...| 2015-07-06|\n",
            "|         US|   50541491|R2IPGL0F4OCNO9|B00JFBLZ90|     255898874|Amazon.com Gift C...|       Gift Card|          1|           18|         24|   N|                N|I ordered a gift ...|I ordered a gift ...| 2015-06-24|\n",
            "|         US|    2547198| R4RNS35ZXYWSU|B00JDQKELW|     832087091|Amazon.com Gift C...|       Gift Card|          2|           52|         59|   N|                Y|   Dented Metal Case|Though the card w...| 2015-06-22|\n",
            "|         US|    2290967| R5S7HIQAWL5QS|B0091JL2CQ|     349029296|Amazon.com Gift C...|       Gift Card|          5|           48|         49|   N|                Y|This is seriously...|I purchased this ...| 2015-06-14|\n",
            "|         US|   50733118|R12LGU9RL181NG|B004LLIKVU|     473048287|Amazon.com eGift ...|       Gift Card|          1|         5987|       6323|   N|                Y|Amazon should do ...|I think I am just...| 2015-06-13|\n",
            "|         US|   21950425|R1ZMHE6AO0T6MO|B00CHQKIDE|     564167907|Amazon.com Gift C...|       Gift Card|          5|           67|         75|   N|                N|          Five Stars|     Awesome to have| 2015-06-11|\n",
            "|         US|    1356854| R66RKRKYK3VMO|B0066AZGD4|     136017760|Amazon eGift Card...|       Gift Card|          5|           74|         89|   N|                Y|\"When you really ...|Love that you can...| 2015-06-05|\n",
            "|         US|    3250748| R1SVG06BEMESM|B004LLIKVU|     473048287|Amazon.com eGift ...|       Gift Card|          5|           92|        126|   N|                Y|my first order of...|this is the third...| 2015-06-04|\n",
            "|         US|   52940323|R1Q5MWSSP3RMYJ|B00JDQJVF2|     255898874|Amazon.com Gift C...|       Gift Card|          1|           25|         29|   N|                Y|Risky Gift Card D...|What's not to lik...| 2015-06-03|\n",
            "+-----------+-----------+--------------+----------+--------------+--------------------+----------------+-----------+-------------+-----------+----+-----------------+--------------------+--------------------+-----------+\n",
            "only showing top 20 rows\n",
            "\n"
          ]
        }
      ]
    },
    {
      "cell_type": "code",
      "metadata": {
        "id": "4FwXA6UvY-96",
        "colab": {
          "base_uri": "https://localhost:8080/"
        },
        "outputId": "692074e9-8c6f-4265-a163-27517a7e9ead"
      },
      "source": [
        "helpful_50_df = total_vote_df.filter(\"helpful_votes/total_votes>=0.50\")\n",
        "helpful_50_df.show()"
      ],
      "execution_count": 8,
      "outputs": [
        {
          "output_type": "stream",
          "name": "stdout",
          "text": [
            "+-----------+-----------+--------------+----------+--------------+--------------------+----------------+-----------+-------------+-----------+----+-----------------+--------------------+--------------------+-----------+\n",
            "|marketplace|customer_id|     review_id|product_id|product_parent|       product_title|product_category|star_rating|helpful_votes|total_votes|vine|verified_purchase|     review_headline|         review_body|review_date|\n",
            "+-----------+-----------+--------------+----------+--------------+--------------------+----------------+-----------+-------------+-----------+----+-----------------+--------------------+--------------------+-----------+\n",
            "|         US|   18888920|R36PQ9D8L2AAOH|B00JDQJVF2|     255898874|Amazon.com Gift C...|       Gift Card|          5|           30|         32|   N|                Y|          Five Stars|Love this adorabl...| 2015-08-26|\n",
            "|         US|    4765280|R23GHBE86II0SK|B007V6ETDK|     924812503|Amazon eGift Card...|       Gift Card|          5|           18|         21|   N|                Y|Los Angeles Alway...|      Great idea Ama| 2015-08-18|\n",
            "|         US|   39230280|R18KVPY0TO33BM|B00JDQJVF2|     255898874|Amazon.com Gift C...|       Gift Card|          5|          241|        248|   N|                Y|Very sweet and co...|I am very impress...| 2015-08-16|\n",
            "|         US|     167348|R2ZB78BDM8BRCF|B004LLIKVU|     473048287|Amazon.com eGift ...|       Gift Card|          1|           99|        113|   N|                Y|             Scammed|You should have a...| 2015-08-13|\n",
            "|         US|   16553928|R2JMJOWGM7V7NX|BT00CTP6MM|     775486538|Amazon.com Gift C...|       Gift Card|          4|           20|         20|   N|                N|          Four Stars|Thank you note wa...| 2015-07-24|\n",
            "|         US|   39357721|R10ORTN0I3G5B9|B00IX1I3G6|     926539283|Amazon.com Gift C...|       Gift Card|          1|           19|         26|   N|                Y|It is getting clo...|Gift cards are no...| 2015-07-18|\n",
            "|         US|   43437405|R1D1VPJBTP1WG8|B00IX1I3G6|     926539283|Amazon.com Gift C...|       Gift Card|          1|           38|         51|   N|                Y|I am still waitin...|I recently tried ...| 2015-07-13|\n",
            "|         US|   50118836|R3Q3ULUTULAQYH|B00IX1I3G6|     926539283|Amazon.com Gift C...|       Gift Card|          1|           22|         29|   N|                Y|      Not impressed.|Am not impressed....| 2015-07-11|\n",
            "|         US|   20020797|R1SHEELXA1IXQP|B00A48G0D4|     848703272|Amazon eGift Card...|       Gift Card|          5|           45|         57|   N|                Y|These gift cards ...|These are handy! ...| 2015-07-10|\n",
            "|         US|     212175|R1IQJ99JOPJOE4|B004LLIKVU|     473048287|Amazon.com eGift ...|       Gift Card|          5|           73|         94|   N|                N|                😅😂|Ok, I haven't bou...| 2015-07-08|\n",
            "|         US|     338223|R32PHGNOUNJVY2|B004LLIKVU|     473048287|Amazon.com eGift ...|       Gift Card|          1|          111|        150|   N|                Y|            One Star|the Quality is ve...| 2015-07-06|\n",
            "|         US|     256644|R32HQ18L7FOP3N|B005FGQHKQ|     379368939|Amazon.com Gift C...|       Gift Card|          1|           18|         23|   N|                N|              Read!!|Most of the 5-sta...| 2015-07-06|\n",
            "|         US|   50541491|R2IPGL0F4OCNO9|B00JFBLZ90|     255898874|Amazon.com Gift C...|       Gift Card|          1|           18|         24|   N|                N|I ordered a gift ...|I ordered a gift ...| 2015-06-24|\n",
            "|         US|    2547198| R4RNS35ZXYWSU|B00JDQKELW|     832087091|Amazon.com Gift C...|       Gift Card|          2|           52|         59|   N|                Y|   Dented Metal Case|Though the card w...| 2015-06-22|\n",
            "|         US|    2290967| R5S7HIQAWL5QS|B0091JL2CQ|     349029296|Amazon.com Gift C...|       Gift Card|          5|           48|         49|   N|                Y|This is seriously...|I purchased this ...| 2015-06-14|\n",
            "|         US|   50733118|R12LGU9RL181NG|B004LLIKVU|     473048287|Amazon.com eGift ...|       Gift Card|          1|         5987|       6323|   N|                Y|Amazon should do ...|I think I am just...| 2015-06-13|\n",
            "|         US|   21950425|R1ZMHE6AO0T6MO|B00CHQKIDE|     564167907|Amazon.com Gift C...|       Gift Card|          5|           67|         75|   N|                N|          Five Stars|     Awesome to have| 2015-06-11|\n",
            "|         US|    1356854| R66RKRKYK3VMO|B0066AZGD4|     136017760|Amazon eGift Card...|       Gift Card|          5|           74|         89|   N|                Y|\"When you really ...|Love that you can...| 2015-06-05|\n",
            "|         US|    3250748| R1SVG06BEMESM|B004LLIKVU|     473048287|Amazon.com eGift ...|       Gift Card|          5|           92|        126|   N|                Y|my first order of...|this is the third...| 2015-06-04|\n",
            "|         US|   52940323|R1Q5MWSSP3RMYJ|B00JDQJVF2|     255898874|Amazon.com Gift C...|       Gift Card|          1|           25|         29|   N|                Y|Risky Gift Card D...|What's not to lik...| 2015-06-03|\n",
            "+-----------+-----------+--------------+----------+--------------+--------------------+----------------+-----------+-------------+-----------+----+-----------------+--------------------+--------------------+-----------+\n",
            "only showing top 20 rows\n",
            "\n"
          ]
        }
      ]
    },
    {
      "cell_type": "code",
      "metadata": {
        "id": "MkqyCuNQY-9-",
        "colab": {
          "base_uri": "https://localhost:8080/"
        },
        "outputId": "d6a6e016-4e2a-4e30-f131-6d98221c2e22"
      },
      "source": [
        "helpful_50_df.count()"
      ],
      "execution_count": 9,
      "outputs": [
        {
          "output_type": "execute_result",
          "data": {
            "text/plain": [
              "355"
            ]
          },
          "metadata": {},
          "execution_count": 9
        }
      ]
    },
    {
      "cell_type": "code",
      "metadata": {
        "id": "lzMmkdKmY--D",
        "colab": {
          "base_uri": "https://localhost:8080/"
        },
        "outputId": "5d956ebf-04cf-46f0-f18c-3984dd25bb85"
      },
      "source": [
        "# Create the vine_table. DataFrame\n",
        "vine_review_df = helpful_50_df.filter(helpful_50_df[\"vine\"]==\"Y\")\n",
        "vine_review_df.show()"
      ],
      "execution_count": 14,
      "outputs": [
        {
          "output_type": "stream",
          "name": "stdout",
          "text": [
            "+-----------+-----------+---------+----------+--------------+-------------+----------------+-----------+-------------+-----------+----+-----------------+---------------+-----------+-----------+\n",
            "|marketplace|customer_id|review_id|product_id|product_parent|product_title|product_category|star_rating|helpful_votes|total_votes|vine|verified_purchase|review_headline|review_body|review_date|\n",
            "+-----------+-----------+---------+----------+--------------+-------------+----------------+-----------+-------------+-----------+----+-----------------+---------------+-----------+-----------+\n",
            "+-----------+-----------+---------+----------+--------------+-------------+----------------+-----------+-------------+-----------+----+-----------------+---------------+-----------+-----------+\n",
            "\n"
          ]
        }
      ]
    },
    {
      "cell_type": "code",
      "source": [
        "\n",
        "\n",
        "novine_review_df = helpful_50_df.filter(helpful_50_df[\"vine\"] == \"N\")\n",
        "novine_review_df.show()"
      ],
      "metadata": {
        "colab": {
          "base_uri": "https://localhost:8080/"
        },
        "id": "VSbQlzHPYAlv",
        "outputId": "38b6d551-7373-477b-8b4d-8aa9b01e97f4"
      },
      "execution_count": 15,
      "outputs": [
        {
          "output_type": "stream",
          "name": "stdout",
          "text": [
            "+-----------+-----------+--------------+----------+--------------+--------------------+----------------+-----------+-------------+-----------+----+-----------------+--------------------+--------------------+-----------+\n",
            "|marketplace|customer_id|     review_id|product_id|product_parent|       product_title|product_category|star_rating|helpful_votes|total_votes|vine|verified_purchase|     review_headline|         review_body|review_date|\n",
            "+-----------+-----------+--------------+----------+--------------+--------------------+----------------+-----------+-------------+-----------+----+-----------------+--------------------+--------------------+-----------+\n",
            "|         US|   18888920|R36PQ9D8L2AAOH|B00JDQJVF2|     255898874|Amazon.com Gift C...|       Gift Card|          5|           30|         32|   N|                Y|          Five Stars|Love this adorabl...| 2015-08-26|\n",
            "|         US|    4765280|R23GHBE86II0SK|B007V6ETDK|     924812503|Amazon eGift Card...|       Gift Card|          5|           18|         21|   N|                Y|Los Angeles Alway...|      Great idea Ama| 2015-08-18|\n",
            "|         US|   39230280|R18KVPY0TO33BM|B00JDQJVF2|     255898874|Amazon.com Gift C...|       Gift Card|          5|          241|        248|   N|                Y|Very sweet and co...|I am very impress...| 2015-08-16|\n",
            "|         US|     167348|R2ZB78BDM8BRCF|B004LLIKVU|     473048287|Amazon.com eGift ...|       Gift Card|          1|           99|        113|   N|                Y|             Scammed|You should have a...| 2015-08-13|\n",
            "|         US|   16553928|R2JMJOWGM7V7NX|BT00CTP6MM|     775486538|Amazon.com Gift C...|       Gift Card|          4|           20|         20|   N|                N|          Four Stars|Thank you note wa...| 2015-07-24|\n",
            "|         US|   39357721|R10ORTN0I3G5B9|B00IX1I3G6|     926539283|Amazon.com Gift C...|       Gift Card|          1|           19|         26|   N|                Y|It is getting clo...|Gift cards are no...| 2015-07-18|\n",
            "|         US|   43437405|R1D1VPJBTP1WG8|B00IX1I3G6|     926539283|Amazon.com Gift C...|       Gift Card|          1|           38|         51|   N|                Y|I am still waitin...|I recently tried ...| 2015-07-13|\n",
            "|         US|   50118836|R3Q3ULUTULAQYH|B00IX1I3G6|     926539283|Amazon.com Gift C...|       Gift Card|          1|           22|         29|   N|                Y|      Not impressed.|Am not impressed....| 2015-07-11|\n",
            "|         US|   20020797|R1SHEELXA1IXQP|B00A48G0D4|     848703272|Amazon eGift Card...|       Gift Card|          5|           45|         57|   N|                Y|These gift cards ...|These are handy! ...| 2015-07-10|\n",
            "|         US|     212175|R1IQJ99JOPJOE4|B004LLIKVU|     473048287|Amazon.com eGift ...|       Gift Card|          5|           73|         94|   N|                N|                😅😂|Ok, I haven't bou...| 2015-07-08|\n",
            "|         US|     338223|R32PHGNOUNJVY2|B004LLIKVU|     473048287|Amazon.com eGift ...|       Gift Card|          1|          111|        150|   N|                Y|            One Star|the Quality is ve...| 2015-07-06|\n",
            "|         US|     256644|R32HQ18L7FOP3N|B005FGQHKQ|     379368939|Amazon.com Gift C...|       Gift Card|          1|           18|         23|   N|                N|              Read!!|Most of the 5-sta...| 2015-07-06|\n",
            "|         US|   50541491|R2IPGL0F4OCNO9|B00JFBLZ90|     255898874|Amazon.com Gift C...|       Gift Card|          1|           18|         24|   N|                N|I ordered a gift ...|I ordered a gift ...| 2015-06-24|\n",
            "|         US|    2547198| R4RNS35ZXYWSU|B00JDQKELW|     832087091|Amazon.com Gift C...|       Gift Card|          2|           52|         59|   N|                Y|   Dented Metal Case|Though the card w...| 2015-06-22|\n",
            "|         US|    2290967| R5S7HIQAWL5QS|B0091JL2CQ|     349029296|Amazon.com Gift C...|       Gift Card|          5|           48|         49|   N|                Y|This is seriously...|I purchased this ...| 2015-06-14|\n",
            "|         US|   50733118|R12LGU9RL181NG|B004LLIKVU|     473048287|Amazon.com eGift ...|       Gift Card|          1|         5987|       6323|   N|                Y|Amazon should do ...|I think I am just...| 2015-06-13|\n",
            "|         US|   21950425|R1ZMHE6AO0T6MO|B00CHQKIDE|     564167907|Amazon.com Gift C...|       Gift Card|          5|           67|         75|   N|                N|          Five Stars|     Awesome to have| 2015-06-11|\n",
            "|         US|    1356854| R66RKRKYK3VMO|B0066AZGD4|     136017760|Amazon eGift Card...|       Gift Card|          5|           74|         89|   N|                Y|\"When you really ...|Love that you can...| 2015-06-05|\n",
            "|         US|    3250748| R1SVG06BEMESM|B004LLIKVU|     473048287|Amazon.com eGift ...|       Gift Card|          5|           92|        126|   N|                Y|my first order of...|this is the third...| 2015-06-04|\n",
            "|         US|   52940323|R1Q5MWSSP3RMYJ|B00JDQJVF2|     255898874|Amazon.com Gift C...|       Gift Card|          1|           25|         29|   N|                Y|Risky Gift Card D...|What's not to lik...| 2015-06-03|\n",
            "+-----------+-----------+--------------+----------+--------------+--------------------+----------------+-----------+-------------+-----------+----+-----------------+--------------------+--------------------+-----------+\n",
            "only showing top 20 rows\n",
            "\n"
          ]
        }
      ]
    },
    {
      "cell_type": "markdown",
      "metadata": {
        "id": "jITZhLkmY--J"
      },
      "source": [
        "Determine the total number of reviews, the number of 5-star reviews, and the percentage of 5-star reviews for the two types of review (paid vs unpaid)."
      ]
    },
    {
      "cell_type": "code",
      "metadata": {
        "id": "7jiUvs1aY--L",
        "colab": {
          "base_uri": "https://localhost:8080/"
        },
        "outputId": "4118e033-31af-466a-e47c-2d5f23e3af70"
      },
      "source": [
        "\n",
        "\n",
        "from pyspark.sql.functions import count\n",
        "# Total number of reviews for each dataframe from Step 3 and Step 4:\n",
        "vine_review_count = vine_review_df.count()\n",
        "print(\"Total Number of Reviews PAID and 'helpful': %f\" % vine_review_count)\n",
        "\n",
        "novine_review_count = novine_review_df.count()\n",
        "print(\"Total Number of Reviews NON-PAID and 'helpful': %f\" % novine_review_count)"
      ],
      "execution_count": 16,
      "outputs": [
        {
          "output_type": "stream",
          "name": "stdout",
          "text": [
            "Total Number of Reviews PAID and 'helpful': 0.000000\n",
            "Total Number of Reviews NON-PAID and 'helpful': 355.000000\n"
          ]
        }
      ]
    },
    {
      "cell_type": "code",
      "metadata": {
        "id": "T2zgZ-aKY--Q",
        "colab": {
          "base_uri": "https://localhost:8080/"
        },
        "outputId": "93d4364c-0f91-4f49-eabb-4ad501d2a7d0"
      },
      "source": [
        "# Number of 5-star Reviews for above Paid and Non-Paid dataframes\n",
        "star5_vine_df = vine_review_df.filter(novine_review_df[\"star_rating\"]==\"5\")\n",
        "print(\"Total Number of 5-star Reviews PAID and 'helpful': %f\" % star5_vine_df.count())\n",
        "star5_novine_df = novine_review_df.filter(novine_review_df[\"star_rating\"]==\"5\")\n",
        "print(\"Total Number of 5-star Reviews NON-PAID and 'helpful': %f\" % star5_novine_df.count())"
      ],
      "execution_count": 18,
      "outputs": [
        {
          "output_type": "stream",
          "name": "stdout",
          "text": [
            "Total Number of 5-star Reviews PAID and 'helpful': 0.000000\n",
            "Total Number of 5-star Reviews NON-PAID and 'helpful': 90.000000\n"
          ]
        }
      ]
    },
    {
      "cell_type": "code",
      "metadata": {
        "id": "1m3yzn-LY--U",
        "colab": {
          "base_uri": "https://localhost:8080/"
        },
        "outputId": "8c8a418a-d060-42f6-927e-c754bca75d0d"
      },
      "source": [
        "\n",
        "# Percentage of 5-star Reviews for above Paid and Non-Paid dataframes\n",
        "\n",
        "print(\"Percent of 5-Star Gift Card Reviews from PAID, 'helpful' dataset:  0\" )\n",
        "\n",
        "star5_novine_percent = (star5_novine_df.count()/novine_review_count)\n",
        "print(\"Percent of 5-Star Gift Card Reviews from NON-PAID, 'helpful' dataset: %f\" % star5_novine_percent)\n",
        "\n"
      ],
      "execution_count": 23,
      "outputs": [
        {
          "output_type": "stream",
          "name": "stdout",
          "text": [
            "Percent of 5-Star Gift Card Reviews from PAID, 'helpful' dataset:  0\n",
            "Percent of 5-Star Gift Card Reviews from NON-PAID, 'helpful' dataset: 0.253521\n"
          ]
        }
      ]
    },
    {
      "cell_type": "markdown",
      "source": [
        "Additional Analysis"
      ],
      "metadata": {
        "id": "tYB1YO27gDkn"
      }
    },
    {
      "cell_type": "code",
      "metadata": {
        "id": "KbXri15fY--Z",
        "colab": {
          "base_uri": "https://localhost:8080/"
        },
        "outputId": "1f1f8f71-0d70-4bcd-c37c-7102ebff9e33"
      },
      "source": [
        "# Total number of ALL reviews\n",
        "total_reviews_count = df.count()\n",
        "print(\"Total Number of Gift Card Reviews: %f\" % total_reviews_count)\n",
        "\n",
        "help_reviews_count = helpful_50_df.count()\n",
        "print(\"Total Number of 'Helpful' Gift Card  Reviews: %f\" % help_reviews_count)"
      ],
      "execution_count": 27,
      "outputs": [
        {
          "output_type": "stream",
          "name": "stdout",
          "text": [
            "Total Number of Gift Card Reviews: 149086.000000\n",
            "Total Number of 'Helpful' Gift Card  Reviews: 355.000000\n"
          ]
        }
      ]
    },
    {
      "cell_type": "code",
      "metadata": {
        "id": "XdQknSHLY--e",
        "colab": {
          "base_uri": "https://localhost:8080/"
        },
        "outputId": "438a544a-6101-4cca-a555-546d9d3f8994"
      },
      "source": [
        "\n",
        "\n",
        "#Total number of ALL 5-star reviews\n",
        "star5_df = df.filter(df[\"star_rating\"] == '5')\n",
        "star5_df.show()\n",
        "\n",
        "star5_count = star5_df.count()\n",
        "print(\"Total Number of 5-Star Gift Card Reviews: %f\" % star5_count)\n",
        "\n"
      ],
      "execution_count": 26,
      "outputs": [
        {
          "output_type": "stream",
          "name": "stdout",
          "text": [
            "+-----------+-----------+--------------+----------+--------------+--------------------+----------------+-----------+-------------+-----------+----+-----------------+--------------------+--------------------+-----------+\n",
            "|marketplace|customer_id|     review_id|product_id|product_parent|       product_title|product_category|star_rating|helpful_votes|total_votes|vine|verified_purchase|     review_headline|         review_body|review_date|\n",
            "+-----------+-----------+--------------+----------+--------------+--------------------+----------------+-----------+-------------+-----------+----+-----------------+--------------------+--------------------+-----------+\n",
            "|         US|   24371595|R27ZP1F1CD0C3Y|B004LLIL5A|     346014806|Amazon eGift Card...|       Gift Card|          5|            0|          0|   N|                Y|          Five Stars|Great birthday gi...| 2015-08-31|\n",
            "|         US|   42489718| RJ7RSBCHUDNNE|B004LLIKVU|     473048287|Amazon.com eGift ...|       Gift Card|          5|            0|          0|   N|                Y|Gift card for the...|It's an Amazon gi...| 2015-08-31|\n",
            "|         US|     861463|R1HVYBSKLQJI5S|B00IX1I3G6|     926539283|Amazon.com Gift C...|       Gift Card|          5|            0|          0|   N|                Y|          Five Stars|                Good| 2015-08-31|\n",
            "|         US|     397970| RNYLPX611NB7Q|B005ESMGV4|     379368939|Amazon.com Gift C...|       Gift Card|          5|            0|          0|   N|                Y|          Five Stars|I can't believe h...| 2015-08-31|\n",
            "|         US|   18513645|R3ALA9XXMBEDZR|B004KNWWU4|     326384774|Amazon Gift Card ...|       Gift Card|          5|            0|          0|   N|                Y|Perfect for most ...|Perfect!  Nice & ...| 2015-08-31|\n",
            "|         US|   22484620|R3R8PHAVJFTPDF|B004LLIKVU|     473048287|Amazon.com eGift ...|       Gift Card|          5|            0|          0|   N|                Y|          Five Stars|            excelent| 2015-08-31|\n",
            "|         US|   14765851|R18WWEK8OIXE30|BT00CTP2EE|     775486538|Amazon.com Gift C...|       Gift Card|          5|            0|          0|   N|                Y|          Five Stars|Great and Safe Gi...| 2015-08-31|\n",
            "|         US|   15100528|R21Z4M4L98CPU2|B004W8D102|     595099956|Amazon Gift Card ...|       Gift Card|          5|            0|          0|   N|                Y|          Five Stars|This was just too...| 2015-08-31|\n",
            "|         US|    3559726| R6JH7A117FHFA|B004LLIKVU|     473048287|Amazon.com eGift ...|       Gift Card|          5|            0|          0|   N|                Y|          Five Stars|                Bien| 2015-08-31|\n",
            "|         US|   23413911|R1XZHS8M1GCGI7|B004KNWWU4|     326384774|Amazon Gift Card ...|       Gift Card|          5|            1|          1|   N|                Y|         Always good|Easy to print fro...| 2015-08-31|\n",
            "|         US|    2026222|R1DAI0N03SKRJN|B004LLIKVU|     473048287|Amazon.com eGift ...|       Gift Card|          5|            1|          1|   N|                Y|          Five Stars|Amazing with 10 d...| 2015-08-31|\n",
            "|         US|   32956435|R2F6SKZOEYQRU3|B004LLIKVU|     473048287|Amazon.com eGift ...|       Gift Card|          5|            0|          0|   N|                N|          Five Stars|Remember Matthew ...| 2015-08-31|\n",
            "|         US|   20241560| RIBOP6OEAZA47|B00H5BNLUS|     637715957|Amazon eGift Card...|       Gift Card|          5|            1|          1|   N|                Y|          Five Stars|                good| 2015-08-31|\n",
            "|         US|   10670435|R15H8E7WD6XD29|B004KNWX6C|     763371347|Amazon Gift Card ...|       Gift Card|          5|            0|          0|   N|                Y|          Five Stars|Awesome way to se...| 2015-08-31|\n",
            "|         US|   48872127| RVN4P3RU4F8IE|BT00CTOYC0|     506740729|Amazon.com $15 Gi...|       Gift Card|          5|            0|          0|   N|                Y|Quick Solution fo...|I love that I hav...| 2015-08-31|\n",
            "|         US|   41238378| R6811C4E7UYL2|B00H5BMH44|      81025991|Amazon eGift Card...|       Gift Card|          5|            0|          0|   N|                Y|  Satisfied customer|Satisfied as usua...| 2015-08-31|\n",
            "|         US|   14222739|R196T0NZ73TYIM|B005ESMMKE|     459536087|Amazon.com Gift C...|       Gift Card|          5|            1|          1|   N|                Y|          Five Stars|                nice| 2015-08-31|\n",
            "|         US|     479599|R2KJB0ISRU3K8T|B004LLIKVU|     473048287|Amazon.com eGift ...|       Gift Card|          5|            0|          0|   N|                Y|          Five Stars|             Good!!!| 2015-08-31|\n",
            "|         US|   14103822| RXQVU8WBA6599|B005ESMKMO|     379368939|Amazon.com Gift C...|       Gift Card|          5|            0|          0|   N|                Y|         easy to use|       is what it is| 2015-08-31|\n",
            "|         US|   25208893|R13UP4ELOFYDB5|B00PG40PAK|     750842252|Amazon eGift Card...|       Gift Card|          5|            0|          0|   N|                Y|Easy, Safe, Relia...|Normally, I don't...| 2015-08-31|\n",
            "+-----------+-----------+--------------+----------+--------------+--------------------+----------------+-----------+-------------+-----------+----+-----------------+--------------------+--------------------+-----------+\n",
            "only showing top 20 rows\n",
            "\n",
            "Total Number of 5-Star Gift Card Reviews: 129709.000000\n"
          ]
        }
      ]
    },
    {
      "cell_type": "code",
      "metadata": {
        "id": "Exuo6ebUsCqW",
        "colab": {
          "base_uri": "https://localhost:8080/"
        },
        "outputId": "e640dc7e-57e3-499c-d467-a4535a9054b7"
      },
      "source": [
        "\n",
        "\n",
        "# Percentage of ALL 5-star reviews paid vs non-paid \n",
        "# 5-star Paid reviews \n",
        "vine_star5_all_df = star5_df.filter(star5_df[\"vine\"] == \"Y\")\n",
        "vine_star5_all_count = vine_star5_all_df.count()\n",
        "\n",
        "vine_star5_all_pct = (vine_star5_all_count/star5_count)\n",
        "print(\"Number of 5-Star Gift Card Reviews PAID: %f\" % vine_star5_all_count)\n",
        "print(\"Percent of 5-Star Gift Card Reviews PAID: %f\" % vine_star5_all_pct)\n",
        " \n",
        "#5-star Non-Paid reviews\n",
        "novine_star5_all_df = star5_df.filter(star5_df[\"vine\"] == \"N\")\n",
        "novine_star5_all_count = novine_star5_all_df.count()\n",
        "\n",
        "novine_star5_all_pct = novine_star5_all_count/star5_count\n",
        "print(\"Number of 5-Star Gift Card Reviews NON-PAID: %f\" % novine_star5_all_count)\n",
        "print(\"Percent of 5-Star Gift CardReviews NON-PAID: %f\" % novine_star5_all_pct)\n",
        "\n"
      ],
      "execution_count": 28,
      "outputs": [
        {
          "output_type": "stream",
          "name": "stdout",
          "text": [
            "Number of 5-Star Gift Card Reviews PAID: 0.000000\n",
            "Percent of 5-Star Gift Card Reviews PAID: 0.000000\n",
            "Number of 5-Star Gift Card Reviews NON-PAID: 129709.000000\n",
            "Percent of 5-Star Gift CardReviews NON-PAID: 1.000000\n"
          ]
        }
      ]
    }
  ]
}